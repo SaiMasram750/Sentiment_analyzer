{
  "nbformat": 4,
  "nbformat_minor": 0,
  "metadata": {
    "colab": {
      "provenance": [],
      "authorship_tag": "ABX9TyN+Gt9EaTArP2SctMtx+oKv",
      "include_colab_link": true
    },
    "kernelspec": {
      "name": "python3",
      "display_name": "Python 3"
    },
    "language_info": {
      "name": "python"
    }
  },
  "cells": [
    {
      "cell_type": "markdown",
      "metadata": {
        "id": "view-in-github",
        "colab_type": "text"
      },
      "source": [
        "<a href=\"https://colab.research.google.com/github/SaiMasram750/Tree_Species_Classification/blob/main/Untitled9.ipynb\" target=\"_parent\"><img src=\"https://colab.research.google.com/assets/colab-badge.svg\" alt=\"Open In Colab\"/></a>"
      ]
    },
    {
      "cell_type": "code",
      "execution_count": null,
      "metadata": {
        "id": "ConHTt1Hu_Z_"
      },
      "outputs": [],
      "source": []
    },
    {
      "cell_type": "code",
      "source": [
        "import kagglehub\n",
        "\n",
        "# Download latest version\n",
        "path = kagglehub.dataset_download(\"viditgandhi/tree-species-identification-dataset\")\n",
        "\n",
        "print(\"Path to dataset files:\", path)"
      ],
      "metadata": {
        "id": "Zk0gR9l5vFoV",
        "colab": {
          "base_uri": "https://localhost:8080/"
        },
        "outputId": "55119e34-ee6f-47e5-e7d1-c0f6660403e2"
      },
      "execution_count": 1,
      "outputs": [
        {
          "output_type": "stream",
          "name": "stdout",
          "text": [
            "Path to dataset files: /kaggle/input/tree-species-identification-dataset\n"
          ]
        }
      ]
    },
    {
      "cell_type": "code",
      "metadata": {
        "colab": {
          "base_uri": "https://localhost:8080/"
        },
        "id": "7ce77fa1",
        "outputId": "37203a04-a216-48b4-c4af-d2fd4d29b08f"
      },
      "source": [
        "import os\n",
        "import pandas as pd\n",
        "\n",
        "# Define the base directory for the dataset\n",
        "dataset_path = '/kaggle/input/tree-species-identification-dataset'\n",
        "image_dir = os.path.join(dataset_path) # Corrected path\n",
        "\n",
        "# Create a list to store image paths and labels\n",
        "image_paths = []\n",
        "labels = []\n",
        "\n",
        "# Iterate through the subdirectories (each represents a tree species)\n",
        "for label in os.listdir(image_dir):\n",
        "    label_dir = os.path.join(image_dir, label)\n",
        "    if os.path.isdir(label_dir):\n",
        "        for image_file in os.listdir(label_dir):\n",
        "            image_path = os.path.join(label_dir, image_file)\n",
        "            image_paths.append(image_path)\n",
        "            labels.append(label)\n",
        "\n",
        "# Create a pandas DataFrame\n",
        "df_images = pd.DataFrame({'image_path': image_paths, 'label': labels})\n",
        "\n",
        "# Create a simple label mapping\n",
        "unique_labels = sorted(df_images['label'].unique())\n",
        "label_map = {label: i for i, label in enumerate(unique_labels)}\n",
        "\n",
        "print(\"Data cleaning and preprocessing (simple approach) complete.\")\n",
        "print(f\"Number of images found: {len(df_images)}\")\n",
        "print(f\"Number of unique species: {len(unique_labels)}\")\n",
        "print(\"Label mapping:\", label_map)"
      ],
      "execution_count": 6,
      "outputs": [
        {
          "output_type": "stream",
          "name": "stdout",
          "text": [
            "Data cleaning and preprocessing (simple approach) complete.\n",
            "Number of images found: 31\n",
            "Number of unique species: 1\n",
            "Label mapping: {'Tree_Species_Dataset': 0}\n"
          ]
        }
      ]
    }
  ]
}